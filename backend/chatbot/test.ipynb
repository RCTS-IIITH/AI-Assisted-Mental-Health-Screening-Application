{
 "cells": [
  {
   "cell_type": "code",
   "execution_count": 57,
   "metadata": {},
   "outputs": [
    {
     "data": {
      "text/plain": [
       "True"
      ]
     },
     "execution_count": 57,
     "metadata": {},
     "output_type": "execute_result"
    }
   ],
   "source": [
    "from langchain_huggingface import HuggingFaceEndpoint\n",
    "from langchain_huggingface import ChatHuggingFace\n",
    "\n",
    "import os\n",
    "from dotenv import load_dotenv\n",
    "\n",
    "load_dotenv()\n"
   ]
  },
  {
   "cell_type": "code",
   "execution_count": 58,
   "metadata": {},
   "outputs": [],
   "source": [
    "os.environ[\"HUGGINGFACEHUB_API_TOKEN\"] = os.getenv(\"HF_TOKEN\")"
   ]
  },
  {
   "cell_type": "code",
   "execution_count": 63,
   "metadata": {},
   "outputs": [],
   "source": [
    "repo_id = \"mistralai/Mistral-7b-instruct-v0.3\"\n",
    "llm = HuggingFaceEndpoint(\n",
    "    repo_id=repo_id,\n",
    "    task='conversational',\n",
    "    max_new_tokens=128,\n",
    "    temperature=0.7,\n",
    "    huggingfacehub_api_token=os.getenv(\"HF_TOKEN\")\n",
    ")\n",
    "\n"
   ]
  },
  {
   "cell_type": "code",
   "execution_count": 64,
   "metadata": {},
   "outputs": [],
   "source": [
    "chat_model = ChatHuggingFace(llm = llm)"
   ]
  },
  {
   "cell_type": "code",
   "execution_count": 67,
   "metadata": {},
   "outputs": [
    {
     "data": {
      "text/plain": [
       "<async_generator object BaseChatModel.astream at 0x00000296459998C0>"
      ]
     },
     "execution_count": 67,
     "metadata": {},
     "output_type": "execute_result"
    }
   ],
   "source": [
    "chat_model.astream(\"What is a MCP Server?\")"
   ]
  },
  {
   "cell_type": "code",
   "execution_count": 59,
   "metadata": {},
   "outputs": [],
   "source": [
    "llm2 = HuggingFaceEndpoint(\n",
    "        repo_id=\"sarvamai/sarvam-m\",\n",
    "        task=\"text2text-generation\",\n",
    "        max_new_tokens=128,\n",
    "        temperature=0.7,\n",
    "        huggingfacehub_api_token=os.getenv(\"HF_TOKEN\")\n",
    "    )"
   ]
  },
  {
   "cell_type": "code",
   "execution_count": 60,
   "metadata": {},
   "outputs": [],
   "source": [
    "chat_model2 = ChatHuggingFace(llm=llm2)\n"
   ]
  },
  {
   "cell_type": "code",
   "execution_count": 61,
   "metadata": {},
   "outputs": [
    {
     "data": {
      "text/plain": [
       "AIMessage(content='Okay, the user is asking, \"What is a MCP Server?\" Let\\'s start by breaking down the acronym MCP. I know that MCP usually stands for different things depending on the context. In some cases, it\\'s Minimum Custrer Price in economics, but that doesn\\'t seem relevant here. In technology, MCP could refer to Challenge patents or related technologies method. However, the user is asking about a server, so likely a different meaning.\\n\\nMaybe in gaming? I remember that Minecraft has something related. Oh right, MCP stands for Minecraft Coder Pack. That\\'s a software tool used to decompile Minecraft\\'s code for modding purposes. But a server into MCP Server makes sense in the context of Minecraft. Wait no— Minecraft Coder pack is more for mod creation for clients, perhaps mod servers?\\n\\nAlternatively, MCP can also refer to Microsoft Connection Point (MCP) which relates to legacy technology services like OLE or DCOM. Using it as a server service for connection management.\\n\\nSo which one makes sense here? The user might be referring to either:\\n\\n1) Minecraft Coder Pack (modding tool), but then MCP Server would be a Player who types /mcp status command in Mobb.conf plugin.\\n\\nOr\\n\\n2) Microsoft Connection Point.\\n\\nGiven how recent those are tried /mentioned in other results it seems less likely恶为 people asking abt first one more because:\\n- The first example talks \\'/mcp\\' command within Minecraft contexts interpreal experience\\n- However If second MCD).\\nUsing oursourc result (assuming it\\'s about Minecraft Client)', additional_kwargs={}, response_metadata={'token_usage': {'completion_tokens': 328, 'prompt_tokens': 41, 'total_tokens': 369}, 'model_name': 'sarvamai/sarvam-m', 'system_fingerprint': '3.2.3-sha-a1f3ebe', 'finish_reason': 'stop', 'logprobs': None}, id='run--b582ea8a-024a-406a-9a47-9a5aeced9456-0', usage_metadata={'input_tokens': 41, 'output_tokens': 328, 'total_tokens': 369})"
      ]
     },
     "execution_count": 61,
     "metadata": {},
     "output_type": "execute_result"
    }
   ],
   "source": [
    "chat_model2.invoke(\"What is a MCP Server?\")"
   ]
  },
  {
   "cell_type": "code",
   "execution_count": 62,
   "metadata": {},
   "outputs": [
    {
     "data": {
      "text/plain": [
       "''"
      ]
     },
     "execution_count": 62,
     "metadata": {},
     "output_type": "execute_result"
    }
   ],
   "source": [
    "llm2.invoke(\"What is why?\")"
   ]
  },
  {
   "cell_type": "code",
   "execution_count": null,
   "metadata": {},
   "outputs": [],
   "source": []
  }
 ],
 "metadata": {
  "kernelspec": {
   "display_name": ".venv",
   "language": "python",
   "name": "python3"
  },
  "language_info": {
   "codemirror_mode": {
    "name": "ipython",
    "version": 3
   },
   "file_extension": ".py",
   "mimetype": "text/x-python",
   "name": "python",
   "nbconvert_exporter": "python",
   "pygments_lexer": "ipython3",
   "version": "3.10.17"
  }
 },
 "nbformat": 4,
 "nbformat_minor": 2
}
